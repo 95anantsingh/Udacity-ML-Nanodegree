{
  "nbformat": 4,
  "nbformat_minor": 0,
  "metadata": {
    "kernelspec": {
      "display_name": "Python 3",
      "language": "python",
      "name": "python3"
    },
    "language_info": {
      "codemirror_mode": {
        "name": "ipython",
        "version": 3
      },
      "file_extension": ".py",
      "mimetype": "text/x-python",
      "name": "python",
      "nbconvert_exporter": "python",
      "pygments_lexer": "ipython3",
      "version": "3.7.3"
    },
    "colab": {
      "name": "Gym Test.ipynb",
      "provenance": [],
      "include_colab_link": true
    }
  },
  "cells": [
    {
      "cell_type": "markdown",
      "metadata": {
        "id": "view-in-github",
        "colab_type": "text"
      },
      "source": [
        "<a href=\"https://colab.research.google.com/github/95anantsingh/Udacity-ML-Nanodegree/blob/master/Test%20Dir/Gym%20Test.ipynb\" target=\"_parent\"><img src=\"https://colab.research.google.com/assets/colab-badge.svg\" alt=\"Open In Colab\"/></a>"
      ]
    },
    {
      "cell_type": "code",
      "metadata": {
        "id": "PiWvZ_jEJPY5",
        "colab_type": "code",
        "colab": {}
      },
      "source": [
        "import gym\n",
        "env = gym.make(\"AirRaid-ram-v0\") # \"Acrobot-v1\" , \"CartPole-v1\"  https://gym.openai.com/envs/#atari\n",
        "observation = env.reset()\n",
        "for _ in range(10000):\n",
        "  env.render()\n",
        "  action = env.action_space.sample() # your agent here (this takes random actions)\n",
        "  observation, reward, done, info = env.step(action)\n",
        "\n",
        "  if done:\n",
        "    observation = env.reset()\n",
        "env.close()"
      ],
      "execution_count": null,
      "outputs": []
    },
    {
      "cell_type": "code",
      "metadata": {
        "id": "LQba5eFNZ3aS",
        "colab_type": "code",
        "colab": {}
      },
      "source": [
        ""
      ],
      "execution_count": null,
      "outputs": []
    }
  ]
}